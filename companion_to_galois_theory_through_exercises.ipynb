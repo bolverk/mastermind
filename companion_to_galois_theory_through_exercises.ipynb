{
 "cells": [
  {
   "cell_type": "markdown",
   "metadata": {},
   "source": [
    "[Link to book](http://www.math.chalmers.se/Math/Grundutb/GU/MMA310/A15/GaloisBookAug2015Student.pdf)"
   ]
  },
  {
   "cell_type": "markdown",
   "metadata": {},
   "source": [
    "# Chapter 1\n",
    "This part seems to me to be tedious and not very informative. I choose to skip it at this point."
   ]
  },
  {
   "cell_type": "markdown",
   "metadata": {},
   "source": [
    "# Chapter 2"
   ]
  },
  {
   "cell_type": "markdown",
   "metadata": {},
   "source": [
    "## Exercise 2.1"
   ]
  },
  {
   "cell_type": "markdown",
   "metadata": {
    "collapsed": true
   },
   "source": [
    "### Section a"
   ]
  },
  {
   "cell_type": "markdown",
   "metadata": {},
   "source": [
    "The subset $\\mathbb{Z}$ is not a field because it does not include inverses to most terms."
   ]
  },
  {
   "cell_type": "markdown",
   "metadata": {},
   "source": [
    "### Section b"
   ]
  },
  {
   "cell_type": "markdown",
   "metadata": {},
   "source": [
    "The subset $\\{0,1\\}$ is not a field because it is not losed $1+1 \\notin \\{0,1\\}$"
   ]
  },
  {
   "cell_type": "markdown",
   "metadata": {},
   "source": [
    "### Section c"
   ]
  },
  {
   "cell_type": "markdown",
   "metadata": {},
   "source": [
    "The subset $\\{0\\}$ is not a field because it does not contain a term neutral with respect to multiplication."
   ]
  },
  {
   "cell_type": "markdown",
   "metadata": {},
   "source": [
    "### Section d"
   ]
  },
  {
   "cell_type": "markdown",
   "metadata": {},
   "source": [
    "This is a field"
   ]
  },
  {
   "cell_type": "markdown",
   "metadata": {},
   "source": [
    "### Section e"
   ]
  },
  {
   "cell_type": "markdown",
   "metadata": {},
   "source": [
    "This is not a field, because of closure violation $\\sqrt[3]{2} \\cdot \\sqrt[3]{2} = 2^{2/3}$ is not a member."
   ]
  },
  {
   "cell_type": "markdown",
   "metadata": {},
   "source": [
    "### Section f"
   ]
  },
  {
   "cell_type": "markdown",
   "metadata": {},
   "source": [
    "This is not a field, because of closure violation $\\sqrt[4]{2} \\cdot \\sqrt[4]{2} = \\sqrt{2}$ is not a member."
   ]
  },
  {
   "cell_type": "markdown",
   "metadata": {},
   "source": [
    "### Section g"
   ]
  },
  {
   "cell_type": "markdown",
   "metadata": {},
   "source": [
    "This is not a field, becuase of the absence of inverses"
   ]
  },
  {
   "cell_type": "markdown",
   "metadata": {},
   "source": [
    "### Section h"
   ]
  },
  {
   "cell_type": "markdown",
   "metadata": {},
   "source": [
    "This is not a field, because it is not closed with respect to addition"
   ]
  },
  {
   "cell_type": "markdown",
   "metadata": {},
   "source": [
    "## Exercise 2.2"
   ]
  },
  {
   "cell_type": "markdown",
   "metadata": {},
   "source": [
    "Every subfield of $\\mathbb{C}$ has to contain 1, and so has to contain $\\mathbb{Z}$, and to close this set it must contain $\\mathbb{Q}$."
   ]
  },
  {
   "cell_type": "markdown",
   "metadata": {},
   "source": [
    "## Exercise 2.3"
   ]
  },
  {
   "cell_type": "markdown",
   "metadata": {},
   "source": [
    "$\\{0,1\\}$ under binary addition and multiplication has characteristic 2."
   ]
  },
  {
   "cell_type": "markdown",
   "metadata": {},
   "source": [
    "## Exercise 2.4"
   ]
  },
  {
   "cell_type": "markdown",
   "metadata": {},
   "source": [
    "You start out with unity, and keep adding it to itself. If it's a finite field, at some point, elements are going to repeat. Let $n_1< n_2 \\in \\mathbb{N}$ such that $n_1 \\cdot 1 = n_2 \\cdot 1 \\Rightarrow \\left(n_2 - n_1\\right) \\cdot 1 = 0$, hence $n_2 - n_1$ is the characteristic of a finite field."
   ]
  },
  {
   "cell_type": "markdown",
   "metadata": {},
   "source": [
    "## Exercise 2.5"
   ]
  },
  {
   "cell_type": "markdown",
   "metadata": {},
   "source": [
    "### Section a"
   ]
  },
  {
   "cell_type": "markdown",
   "metadata": {},
   "source": [
    "$K \\left(\\alpha\\right)$ is closed under addition (trivial) and multiplication. Let $a,b,c,d \\in K$\n",
    "\n",
    "$\\left(a + b \\alpha\\right) \\left(c+d\\alpha \\right) = a c + b d \\alpha^2 + \\left(b c + a d\\right) \\alpha \\in K \\left(\\alpha\\right)$"
   ]
  },
  {
   "cell_type": "markdown",
   "metadata": {
    "collapsed": true
   },
   "source": [
    "### Section b"
   ]
  },
  {
   "cell_type": "markdown",
   "metadata": {},
   "source": [
    "If $c^2 = a\\cdot b$, then $\\sqrt{b} = c/\\sqrt{a}$ and so $K \\left(\\sqrt{a}\\right) = K \\left(\\sqrt{b}\\right)$."
   ]
  },
  {
   "cell_type": "markdown",
   "metadata": {},
   "source": [
    "If $K \\left(\\sqrt{a}\\right) = K \\left(\\sqrt{b}\\right)$, then $\\exists d,e \\in K$ such that $1 = d\\sqrt{a} + e \\sqrt{b}$. Squaring yields $1 = d^2 a + e^2 b + 2 d e \\sqrt{a b}$. Therefore $\\sqrt{a b} \\in K$."
   ]
  },
  {
   "cell_type": "markdown",
   "metadata": {},
   "source": [
    "## Exercise 2.6"
   ]
  },
  {
   "cell_type": "markdown",
   "metadata": {},
   "source": [
    "### Section a"
   ]
  },
  {
   "cell_type": "markdown",
   "metadata": {},
   "source": [
    "$\\mathbb{Q} \\left(\\sqrt{2}\\right) = \\{a + b \\sqrt{2} : a,b \\in \\mathbb{Q} \\}$"
   ]
  },
  {
   "cell_type": "markdown",
   "metadata": {},
   "source": [
    "### Section b"
   ]
  },
  {
   "cell_type": "markdown",
   "metadata": {},
   "source": [
    "$\\mathbb{Q} \\left( i \\right) = \\{a + i b : a, b \\in \\mathbb{q} \\}$"
   ]
  },
  {
   "cell_type": "markdown",
   "metadata": {},
   "source": [
    "### Section c"
   ]
  },
  {
   "cell_type": "markdown",
   "metadata": {},
   "source": [
    "$\\mathbb{Q} \\left(\\sqrt{2}, i \\right) = \\{a + i b + \\sqrt{2} c + i \\sqrt{2} d : a, b, c, d \\in \\mathbb{q} \\}$"
   ]
  },
  {
   "cell_type": "markdown",
   "metadata": {},
   "source": [
    "### Section d"
   ]
  },
  {
   "cell_type": "markdown",
   "metadata": {},
   "source": [
    "$\\mathbb{Q} \\left( \\sqrt{2}, \\sqrt{3}\\right) = \\{a+b \\sqrt{2} + c \\sqrt{3} + d \\sqrt{6} : a,b,c,d \\in \\mathbb{Q} \\}$"
   ]
  },
  {
   "cell_type": "markdown",
   "metadata": {},
   "source": [
    "## Exercise 2.7"
   ]
  },
  {
   "cell_type": "markdown",
   "metadata": {},
   "source": [
    "### Section a"
   ]
  },
  {
   "cell_type": "markdown",
   "metadata": {},
   "source": [
    "$i \\sqrt{5} = \\sqrt{5} \\cdot i$"
   ]
  },
  {
   "cell_type": "markdown",
   "metadata": {},
   "source": [
    "### Section b"
   ]
  },
  {
   "cell_type": "markdown",
   "metadata": {},
   "source": [
    "$\\sqrt{6} = \\sqrt{2} \\cdot \\sqrt{3}$"
   ]
  },
  {
   "cell_type": "markdown",
   "metadata": {},
   "source": [
    "### Section c"
   ]
  },
  {
   "cell_type": "markdown",
   "metadata": {},
   "source": [
    "$\\sqrt{5} - \\sqrt{7} \\in \\mathbb{Q} \\left(\\sqrt{5} + \\sqrt{7}\\right)$"
   ]
  },
  {
   "cell_type": "markdown",
   "metadata": {},
   "source": [
    "### Section d"
   ]
  },
  {
   "cell_type": "markdown",
   "metadata": {},
   "source": [
    "$\\sqrt{a} - \\sqrt{b} \\in \\mathbb{Q} \\left(\\sqrt{a} + \\sqrt{b}\\right)$"
   ]
  },
  {
   "cell_type": "markdown",
   "metadata": {},
   "source": [
    "## Exercise 2.8"
   ]
  },
  {
   "cell_type": "markdown",
   "metadata": {},
   "source": [
    "### Section a "
   ]
  },
  {
   "cell_type": "markdown",
   "metadata": {},
   "source": [
    "$1+4\\sqrt{2} \\in \\mathbb{Q} \\left(\\sqrt{2}\\right)$"
   ]
  },
  {
   "cell_type": "markdown",
   "metadata": {},
   "source": [
    "### Section b"
   ]
  },
  {
   "cell_type": "markdown",
   "metadata": {},
   "source": [
    "Same as 2.6 c"
   ]
  },
  {
   "cell_type": "markdown",
   "metadata": {},
   "source": [
    "### Section c"
   ]
  },
  {
   "cell_type": "markdown",
   "metadata": {},
   "source": [
    "Same as 2.7 a"
   ]
  },
  {
   "cell_type": "markdown",
   "metadata": {},
   "source": [
    "### Section d"
   ]
  },
  {
   "cell_type": "markdown",
   "metadata": {},
   "source": [
    "$\\{a + b i + c \\sqrt{i} + d i \\sqrt{i} : a,b,c,d \\in \\mathbb{Q}$"
   ]
  },
  {
   "cell_type": "markdown",
   "metadata": {},
   "source": [
    "## Exercise 2.9"
   ]
  },
  {
   "cell_type": "markdown",
   "metadata": {},
   "source": [
    "### Section a"
   ]
  },
  {
   "cell_type": "markdown",
   "metadata": {},
   "source": [
    "The determinant of a non - zero matrix is $a^2 + b^2 = a^2\\left(x^2+1 \\right)$ where $x = \\frac{b}{a} \\in K$. If the equation $X^2 + 1 = 0$ has a solution in $K$, then there are non zero elements which do not have an inverse, and so $L$ is not a field."
   ]
  },
  {
   "cell_type": "markdown",
   "metadata": {},
   "source": [
    "### Section b"
   ]
  },
  {
   "cell_type": "markdown",
   "metadata": {},
   "source": [
    "$diag \\left(a, a\\right)$ where $a \\in K$ is isomorphic to $K$."
   ]
  },
  {
   "cell_type": "markdown",
   "metadata": {},
   "source": [
    "### Section c"
   ]
  },
  {
   "cell_type": "markdown",
   "metadata": {},
   "source": [
    "$GF(3^2)$?"
   ]
  },
  {
   "cell_type": "markdown",
   "metadata": {},
   "source": [
    "## Exercise 2.10"
   ]
  },
  {
   "cell_type": "markdown",
   "metadata": {},
   "source": [
    "### Section a"
   ]
  },
  {
   "cell_type": "markdown",
   "metadata": {},
   "source": [
    "The determinant can be written as $a \\left(a-b\\right) + b^2 = a^2 \\left(1-x+x^2 \\right)$, so $L$ is a field iff the equation $X^2 - X + 1$ must not have roots in $K$."
   ]
  },
  {
   "cell_type": "markdown",
   "metadata": {},
   "source": [
    "### Section b "
   ]
  },
  {
   "cell_type": "markdown",
   "metadata": {},
   "source": [
    "Let $K = \\{1,0\\}$ with binary addition and multiplication. The elements of $L$ are\n",
    "\n",
    "$A = \\begin{bmatrix}\n",
    "1 & 0\\\\ \n",
    " 0 & 1\n",
    "\\end{bmatrix}$\n",
    "\n",
    "$B = \\begin{bmatrix}\n",
    "1 & 1\\\\ \n",
    " 1 & 0\n",
    "\\end{bmatrix}$\n",
    "\n",
    "$C = \\begin{bmatrix}\n",
    "0 & 1\\\\ \n",
    " 1 & 1\n",
    "\\end{bmatrix}$\n",
    "\n",
    "$D = \\begin{bmatrix}\n",
    "0 & 0\\\\ \n",
    " 0 & 0\n",
    "\\end{bmatrix}$\n",
    "\n",
    "and the multiplication table is\n",
    "\n",
    "$\\begin{matrix}\n",
    "\\cdot & A & B & C & D \\\\ \n",
    "A & A & B & C & D\\\\ \n",
    "B & B & C & A & D\\\\ \n",
    "C & C & A & B & D\\\\ \n",
    "D & D & D & D & D\n",
    "\\end{matrix}$"
   ]
  },
  {
   "cell_type": "markdown",
   "metadata": {},
   "source": [
    "## Exercise 2.11"
   ]
  },
  {
   "cell_type": "markdown",
   "metadata": {},
   "source": [
    "2"
   ]
  },
  {
   "cell_type": "markdown",
   "metadata": {},
   "source": [
    "## Exercise 2.12"
   ]
  },
  {
   "cell_type": "markdown",
   "metadata": {},
   "source": [
    "### Section a"
   ]
  },
  {
   "cell_type": "markdown",
   "metadata": {},
   "source": [
    "$\\left(a +b\\right)^p = \\sum_{n=0}^{p} {p \\choose n} a^n b^{p-n} = a^p + b^p$"
   ]
  },
  {
   "cell_type": "markdown",
   "metadata": {},
   "source": [
    "### Section b"
   ]
  },
  {
   "cell_type": "markdown",
   "metadata": {},
   "source": [
    "Follows immediately from the previous section"
   ]
  },
  {
   "cell_type": "markdown",
   "metadata": {},
   "source": [
    "### Section c"
   ]
  },
  {
   "cell_type": "markdown",
   "metadata": {},
   "source": [
    "$K^p \\in K$, closure under multiplication is trivial, and closure under addition follows from the previous sections."
   ]
  },
  {
   "cell_type": "markdown",
   "metadata": {},
   "source": [
    "## Exercise 2.13"
   ]
  },
  {
   "cell_type": "markdown",
   "metadata": {},
   "source": [
    "Both sections seems to me to follow immediately from the defintion of a compositum"
   ]
  },
  {
   "cell_type": "markdown",
   "metadata": {},
   "source": [
    "## Exercise 2.14"
   ]
  },
  {
   "cell_type": "markdown",
   "metadata": {},
   "source": [
    "Suppose the polynomial has at least one root $r$. Let us define a new variable $y = x-r$. Substituting into the polynomial yields\n",
    "\n",
    "$f \\left(r+y \\right) = y^p+r^p -y-r+a = y^p-y = y \\left(y^{p-1}-1 \\right)$"
   ]
  },
  {
   "cell_type": "markdown",
   "metadata": {},
   "source": [
    "So $y = 1 \\Rightarrow x = r+1$ is also a solution. In this way, we can use a single solution to generate a series of $p$ unique solution. From the fundamental theorem of algebra, we know that there can be no more solutions to the equations."
   ]
  },
  {
   "cell_type": "markdown",
   "metadata": {},
   "source": [
    "# Section 3"
   ]
  },
  {
   "cell_type": "markdown",
   "metadata": {},
   "source": [
    "## Exercise 3.1"
   ]
  },
  {
   "cell_type": "markdown",
   "metadata": {},
   "source": [
    "### Section a"
   ]
  },
  {
   "cell_type": "markdown",
   "metadata": {},
   "source": [
    "Any nontrivial decomposition of the polynomials of degree 2 or 3 includes a polynomial of degree 1, which has a root in $K$."
   ]
  },
  {
   "cell_type": "markdown",
   "metadata": {},
   "source": [
    "### Section b"
   ]
  },
  {
   "cell_type": "markdown",
   "metadata": {},
   "source": [
    "It is trivial to see that there are no zeros. The challenge is to find the decomposition\n",
    "\n",
    "$x^4 + 4 = \\left(x^2 + 2 x +2 \\right) \\left(x^2 - 2 x + 2 \\right)$"
   ]
  },
  {
   "cell_type": "markdown",
   "metadata": {},
   "source": [
    "## Exercise 3.2"
   ]
  },
  {
   "cell_type": "markdown",
   "metadata": {},
   "source": [
    "There are $5 \\cdot 4 = 20$ binary polynomails with two coefficents. However, if neither of the terms is 1, then is would always be possible to factor out $x$, and so such polynomials will be reducible. Therefore, we only have to worry about 5 polynomials"
   ]
  },
  {
   "cell_type": "markdown",
   "metadata": {},
   "source": [
    "$x+1$ is irreducible"
   ]
  },
  {
   "cell_type": "markdown",
   "metadata": {},
   "source": [
    "$x^2 + 1 = \\left(x+1 \\right)^2$ "
   ]
  },
  {
   "cell_type": "markdown",
   "metadata": {},
   "source": [
    "$x^3 + 1 = \\left(x+1 \\right) \\left(x^2 + x +1 \\right)$"
   ]
  },
  {
   "cell_type": "markdown",
   "metadata": {},
   "source": [
    "$x^4 + 1 = \\left(x^2+1\\right)^2$"
   ]
  },
  {
   "cell_type": "markdown",
   "metadata": {},
   "source": [
    "$x^5 + 1 = \\left(x +1 \\right) \\left(x^4+x^3+x^2+x+1 \\right)$"
   ]
  },
  {
   "cell_type": "markdown",
   "metadata": {},
   "source": [
    "## Exercise 3.3"
   ]
  },
  {
   "cell_type": "markdown",
   "metadata": {},
   "source": [
    "$\\sum_{i=0}^{n} a_i \\left(\\frac{p}{q} \\right)^i = 0 \\Rightarrow \\sum_{i=0}^{n} a_i q^{n-i} p^i = a_0 q^n + \\sum_{i=1}^{n-1} a_i q^{n-1} p^{i} + a_n p^n= 0$"
   ]
  },
  {
   "cell_type": "markdown",
   "metadata": {},
   "source": [
    "Hence, $p|a_0$ and $q|a_n$"
   ]
  },
  {
   "cell_type": "markdown",
   "metadata": {},
   "source": [
    "## Exercise 3.4"
   ]
  },
  {
   "cell_type": "markdown",
   "metadata": {},
   "source": [
    "### Section a "
   ]
  },
  {
   "cell_type": "markdown",
   "metadata": {},
   "source": [
    "$x^4 + 64 = \\left(x^2 + 4 x + 8\\right) \\left(x^2 -4 x + 8 \\right)$"
   ]
  },
  {
   "cell_type": "markdown",
   "metadata": {},
   "source": [
    "### Section b"
   ]
  },
  {
   "cell_type": "markdown",
   "metadata": {},
   "source": [
    "$x^4 +1 = \\left(x^2 + \\sqrt{2} x + 1\\right) \\left(x^2 - \\sqrt{2} x +1\\right)$"
   ]
  },
  {
   "cell_type": "markdown",
   "metadata": {},
   "source": [
    "### Section c"
   ]
  },
  {
   "cell_type": "markdown",
   "metadata": {},
   "source": [
    "$x^7 + 1 = \\left(x + 1\\right) \\left(x^6+x^5+x^4+x^3+x^2+x +1\\right)$"
   ]
  },
  {
   "cell_type": "markdown",
   "metadata": {},
   "source": [
    "### Section d"
   ]
  },
  {
   "cell_type": "markdown",
   "metadata": {},
   "source": [
    "Brute force!"
   ]
  },
  {
   "cell_type": "code",
   "execution_count": 59,
   "metadata": {},
   "outputs": [
    {
     "data": {
      "image/png": "[encoded data removed]",
      "text/latex": [
       "$$\\left [ \\right ]$$"
      ],
      "text/plain": [
       "[]"
      ]
     },
     "execution_count": 59,
     "metadata": {},
     "output_type": "execute_result"
    }
   ],
   "source": [
    "import itertools\n",
    "\n",
    "polynomials = [(x**2+itm[0]*x+itm[1])*(x**2+itm[2]*x+itm[3])\n",
    "              for itm in itertools.product(range(5),repeat=4)]\n",
    "polynomials = [itm for itm in polynomials\n",
    "              if itm.expand().subs(x,0)%5==2 and\n",
    "               itm.diff(x).subs(x,0)%5==0 and\n",
    "              itm.diff(x,2).subs(x,0)/2%5==0 and\n",
    "              itm.diff(x,3).subs(x,0)/6%5==0]\n",
    "polynomials"
   ]
  },
  {
   "cell_type": "markdown",
   "metadata": {},
   "source": [
    "So I guess it's irreducible"
   ]
  },
  {
   "cell_type": "markdown",
   "metadata": {},
   "source": [
    "### Section e"
   ]
  },
  {
   "cell_type": "markdown",
   "metadata": {},
   "source": [
    "Irreducible"
   ]
  },
  {
   "cell_type": "markdown",
   "metadata": {},
   "source": [
    "### Section f"
   ]
  },
  {
   "cell_type": "markdown",
   "metadata": {},
   "source": [
    "$x^6 + 27 = \\left(x^2-3 \\right) \\left(x^4 +3 x^2- 9 \\right)$"
   ]
  },
  {
   "cell_type": "markdown",
   "metadata": {},
   "source": [
    "### Section g"
   ]
  },
  {
   "cell_type": "markdown",
   "metadata": {},
   "source": [
    "$x^3 + 2 = \\left(x + 2\\right) \\left(x^2+x+1 \\right)$"
   ]
  },
  {
   "cell_type": "markdown",
   "metadata": {},
   "source": [
    "### Section h"
   ]
  },
  {
   "cell_type": "markdown",
   "metadata": {},
   "source": [
    "There are no roots in $\\mathbb{F}_3$, so the only possible decomposition is into two second order polynomials"
   ]
  },
  {
   "cell_type": "code",
   "execution_count": 70,
   "metadata": {},
   "outputs": [
    {
     "data": {
      "image/png": "[encoded data removed]",
      "text/latex": [
       "$$\\left [ \\right ]$$"
      ],
      "text/plain": [
       "[]"
      ]
     },
     "execution_count": 70,
     "metadata": {},
     "output_type": "execute_result"
    }
   ],
   "source": [
    "import itertools\n",
    "\n",
    "polynomials = [(x**2+itm[0]*x+itm[1])*(x**2+itm[2]*x+itm[3])\n",
    "              for itm in itertools.product(range(5),repeat=4)]\n",
    "polynomials = [itm for itm in polynomials\n",
    "              if itm.expand().subs(x,0)%3==2 and\n",
    "               itm.diff(x).subs(x,0)%3==1 and\n",
    "              (itm.diff(x,2).subs(x,0)/2)%3==0 and\n",
    "              (itm.diff(x,3).subs(x,0)/6)%3==0]\n",
    "polynomials"
   ]
  },
  {
   "cell_type": "markdown",
   "metadata": {},
   "source": [
    "So I guess it's irreducible"
   ]
  },
  {
   "cell_type": "markdown",
   "metadata": {},
   "source": [
    "## Exercise 3.5"
   ]
  },
  {
   "cell_type": "markdown",
   "metadata": {},
   "source": [
    "### Section a"
   ]
  },
  {
   "cell_type": "markdown",
   "metadata": {},
   "source": [
    "Suppose $f\\left(z \\right) = 0$, then, by applying a complex conjugate to this entire equation, we get $f \\left( \\bar{z}\\right) = 0$ (since the coefficients are real) so the conjugate is also a root."
   ]
  },
  {
   "cell_type": "markdown",
   "metadata": {},
   "source": [
    "### Section b"
   ]
  },
  {
   "cell_type": "markdown",
   "metadata": {},
   "source": [
    "Every real root of the poynomial translates to a monomial factor, and from the previous section, every pair of conjugate complex roots translate to a quadratic factor."
   ]
  },
  {
   "cell_type": "markdown",
   "metadata": {},
   "source": [
    "## Exercise 3.6"
   ]
  },
  {
   "cell_type": "markdown",
   "metadata": {},
   "source": [
    "None of the polynomials have roots in $\\mathbb{Z}$, so the only possible decomposition is into two quadratics."
   ]
  },
  {
   "cell_type": "markdown",
   "metadata": {},
   "source": [
    "### Section a"
   ]
  },
  {
   "cell_type": "markdown",
   "metadata": {},
   "source": [
    "There are two options for a decomposion\n",
    "\n",
    "$\\left(x^2 + a x \\pm 1\\right) \\left(x^2 + b x \\pm 1\\right) = x^4 + \\left(a+b\\right)x^3+\\left(a b \\pm 2\\right) \\pm \\left(a + b\\right)x + 1$"
   ]
  },
  {
   "cell_type": "markdown",
   "metadata": {},
   "source": [
    "In which case $b = -a$ and $a^2 = \\pm2$, and no integer can satisfy this condition. "
   ]
  },
  {
   "cell_type": "markdown",
   "metadata": {},
   "source": [
    "### Section b"
   ]
  },
  {
   "cell_type": "markdown",
   "metadata": {},
   "source": [
    "Using the same decomposion as in the previous section, the conditions on the coefficients are"
   ]
  },
  {
   "cell_type": "markdown",
   "metadata": {},
   "source": [
    "$a + b = 0 \\Rightarrow b = -a$"
   ]
  },
  {
   "cell_type": "markdown",
   "metadata": {},
   "source": [
    "$a^2 = 8$ or $a^2 = 12$\n",
    "\n",
    "Again, no integer can satisfy either equation."
   ]
  },
  {
   "cell_type": "markdown",
   "metadata": {},
   "source": [
    "### Section c"
   ]
  },
  {
   "cell_type": "markdown",
   "metadata": {},
   "source": [
    "$\\left(x^2 +a x + b\\right) \\left(x^2 +c x +d\\right) = x^4 + \\left(a + c\\right) x^3 + \\left(b+d+a c \\right) x^2 + \\left(b c+a d \\right) x + bd$"
   ]
  },
  {
   "cell_type": "markdown",
   "metadata": {},
   "source": [
    "Conditions on the coefficients"
   ]
  },
  {
   "cell_type": "markdown",
   "metadata": {},
   "source": [
    "$a + c = -4 \\Rightarrow c = -4-a$"
   ]
  },
  {
   "cell_type": "markdown",
   "metadata": {},
   "source": [
    "$b d = 8 \\Rightarrow b = \\pm 2, d = \\pm 4$ (without loss of generality)"
   ]
  },
  {
   "cell_type": "markdown",
   "metadata": {},
   "source": [
    "$\\pm 6 - a \\left(a+4\\right) = 12$"
   ]
  },
  {
   "cell_type": "code",
   "execution_count": 73,
   "metadata": {},
   "outputs": [
    {
     "data": {
      "image/png": "[encoded data removed]",
      "text/latex": [
       "$$\\left [ -2 - \\sqrt{2} i, \\quad -2 + \\sqrt{2} i\\right ]$$"
      ],
      "text/plain": [
       "[-2 - √2⋅ⅈ, -2 + √2⋅ⅈ]"
      ]
     },
     "execution_count": 73,
     "metadata": {},
     "output_type": "execute_result"
    }
   ],
   "source": [
    "temp = x**2+4*x+6\n",
    "sympy.solve(temp,x)"
   ]
  },
  {
   "cell_type": "code",
   "execution_count": 74,
   "metadata": {},
   "outputs": [
    {
     "data": {
      "image/png": "[encoded data removed]",
      "text/latex": [
       "$$\\left [ -2 - \\sqrt{14} i, \\quad -2 + \\sqrt{14} i\\right ]$$"
      ],
      "text/plain": [
       "[-2 - √14⋅ⅈ, -2 + √14⋅ⅈ]"
      ]
     },
     "execution_count": 74,
     "metadata": {},
     "output_type": "execute_result"
    }
   ],
   "source": [
    "temp = x**2+4*x+18\n",
    "sympy.solve(temp,x)"
   ]
  },
  {
   "cell_type": "markdown",
   "metadata": {},
   "source": [
    "No integer solution exists"
   ]
  },
  {
   "cell_type": "markdown",
   "metadata": {},
   "source": [
    "## Exercise 3.7"
   ]
  },
  {
   "cell_type": "markdown",
   "metadata": {},
   "source": [
    "### Section a"
   ]
  },
  {
   "cell_type": "markdown",
   "metadata": {},
   "source": [
    "Let us suppose that such a polynomial is reducible. Let $g \\left(X\\right) = \\sum_{i=0}^{k} g_i X^i$ and $h \\left(X\\right) = \\sum_{i=0}^l h_i X^i$ be the factors of $f$. Therefore, $k+l = n$, $a_n = g_k h_l$ and $a_0 = h_0 g_0$. Hence, either $p|h_0$ or $p|g_0$ (but not both). Without loss of generality, we assume $p|h_0$. The first order coefficient is $h_0 g_1 + h_1 g_0$, and so $p|h_1$. Continuing this way, we see that all coefficients of $h$ must divide $p$, but this contradicts $p \\nmid a_0$"
   ]
  },
  {
   "cell_type": "markdown",
   "metadata": {},
   "source": [
    "### Section b"
   ]
  },
  {
   "cell_type": "markdown",
   "metadata": {},
   "source": [
    "$2|2$ but $2^2 \\nmid 2$. According to the Eisenstein's lemma, the polynomial is irreducible."
   ]
  },
  {
   "cell_type": "markdown",
   "metadata": {},
   "source": [
    "### Section c"
   ]
  },
  {
   "cell_type": "markdown",
   "metadata": {},
   "source": [
    "Transforming $x \\rightarrow y + 1$, we get $f \\left(y\\right) = \\sum_{i=1}^{p} {p \\choose i} y^{i-1}$. This polynomial satisfies the conditions Eisenstein's lemma for the prime $p$."
   ]
  },
  {
   "cell_type": "markdown",
   "metadata": {},
   "source": [
    "## Exercise 3.8"
   ]
  },
  {
   "cell_type": "markdown",
   "metadata": {},
   "source": [
    "### Section a"
   ]
  },
  {
   "cell_type": "markdown",
   "metadata": {},
   "source": [
    "Let $f \\left(x\\right) = \\sum_{i=0}^n a_n x^n$ be a polynomial in $\\mathbb{Z} \\left[x\\right]$ and $g \\left(x \\right) = \\sum_{i=0}^n \\left(a_n \\bmod p \\right) x^n$ be a polynomial in $\\mathbb{F}_p \\left[x\\right]$. Suppose $g$ is irreducible in $\\mathbb{F}_p \\left[x\\right]$, but $f$ is reducible in $\\mathbb{Z} \\left[x\\right]$. Let $f_1 \\cdot f_2 = f$ be a decomposition in $\\mathbb{Z} \\left[x\\right]$, then their reduction with respect to modulo $p$ will yield a decomposition in $\\mathbb{F}_p \\left[x\\right]$."
   ]
  },
  {
   "cell_type": "markdown",
   "metadata": {},
   "source": [
    "### Section b"
   ]
  },
  {
   "cell_type": "markdown",
   "metadata": {},
   "source": [
    "Let us assume, by contradiction, that the polynomial is reducible in $\\mathbb{Q} \\left[x\\right]$. In that case, there exist two factors such that $f = g \\cdot h$. We can reduce these factors by modulo $p$ and $q$, and produce two factors in both $\\mathbb{F}_p \\left[x\\right]$ and $\\mathbb{F}_q \\left[x\\right]$ which would have the same dimensions."
   ]
  },
  {
   "cell_type": "markdown",
   "metadata": {},
   "source": [
    "### Section c"
   ]
  },
  {
   "cell_type": "markdown",
   "metadata": {},
   "source": [
    "#### Subsection 1"
   ]
  },
  {
   "cell_type": "code",
   "execution_count": 82,
   "metadata": {},
   "outputs": [
    {
     "data": {
      "image/png": "[encoded data removed]",
      "text/latex": [
       "$$x^{4} + x + 1$$"
      ],
      "text/plain": [
       " 4        \n",
       "x  + x + 1"
      ]
     },
     "execution_count": 82,
     "metadata": {},
     "output_type": "execute_result"
    }
   ],
   "source": [
    "temp = sympy.poly(x**4+x+1)\n",
    "sympy.factor(temp, modulus=2)"
   ]
  },
  {
   "cell_type": "markdown",
   "metadata": {},
   "source": [
    "#### Subsection 2"
   ]
  },
  {
   "cell_type": "code",
   "execution_count": 84,
   "metadata": {},
   "outputs": [
    {
     "data": {
      "image/png": "[encoded data removed]",
      "text/latex": [
       "$$x^{5} + x^{2} + 1$$"
      ],
      "text/plain": [
       " 5    2    \n",
       "x  + x  + 1"
      ]
     },
     "execution_count": 84,
     "metadata": {},
     "output_type": "execute_result"
    }
   ],
   "source": [
    "temp = sympy.poly(x**5+x**2+1)\n",
    "sympy.factor(temp, modulus=2)"
   ]
  },
  {
   "cell_type": "markdown",
   "metadata": {},
   "source": [
    "#### Subsection 3"
   ]
  },
  {
   "cell_type": "code",
   "execution_count": 88,
   "metadata": {},
   "outputs": [
    {
     "data": {
      "image/png": "[encoded data removed]",
      "text/latex": [
       "$$x^{4} - 2 x - 1$$"
      ],
      "text/plain": [
       " 4          \n",
       "x  - 2⋅x - 1"
      ]
     },
     "execution_count": 88,
     "metadata": {},
     "output_type": "execute_result"
    }
   ],
   "source": [
    "temp = sympy.poly(x**4+3*x+4)\n",
    "sympy.factor(temp, modulus=5)"
   ]
  },
  {
   "cell_type": "markdown",
   "metadata": {},
   "source": [
    "#### Subsection 4"
   ]
  },
  {
   "cell_type": "code",
   "execution_count": 92,
   "metadata": {},
   "outputs": [
    {
     "data": {
      "image/png": "[encoded data removed]",
      "text/latex": [
       "$$\\left(x^{2} + x + 1\\right) \\left(x^{3} + x^{2} + 1\\right)$$"
      ],
      "text/plain": [
       "⎛ 2        ⎞ ⎛ 3    2    ⎞\n",
       "⎝x  + x + 1⎠⋅⎝x  + x  + 1⎠"
      ]
     },
     "execution_count": 92,
     "metadata": {},
     "output_type": "execute_result"
    }
   ],
   "source": [
    "temp = sympy.poly(x**5+3*x+1)\n",
    "sympy.factor(temp, modulus=2)"
   ]
  },
  {
   "cell_type": "code",
   "execution_count": 93,
   "metadata": {},
   "outputs": [
    {
     "data": {
      "image/png": "[encoded data removed]",
      "text/latex": [
       "$$\\left(x + 1\\right) \\left(x^{4} - x^{3} + x^{2} - x + 1\\right)$$"
      ],
      "text/plain": [
       "        ⎛ 4    3    2        ⎞\n",
       "(x + 1)⋅⎝x  - x  + x  - x + 1⎠"
      ]
     },
     "execution_count": 93,
     "metadata": {},
     "output_type": "execute_result"
    }
   ],
   "source": [
    "temp = sympy.poly(x**5+3*x+1)\n",
    "sympy.factor(temp, modulus=3)"
   ]
  },
  {
   "cell_type": "markdown",
   "metadata": {},
   "source": [
    "#### Subsection 5"
   ]
  },
  {
   "cell_type": "code",
   "execution_count": null,
   "metadata": {},
   "outputs": [],
   "source": []
  }
 ],
 "metadata": {
  "kernelspec": {
   "display_name": "Python 2",
   "language": "python",
   "name": "python2"
  },
  "language_info": {
   "codemirror_mode": {
    "name": "ipython",
    "version": 2
   },
   "file_extension": ".py",
   "mimetype": "text/x-python",
   "name": "python",
   "nbconvert_exporter": "python",
   "pygments_lexer": "ipython2",
   "version": "2.7.12"
  }
 },
 "nbformat": 4,
 "nbformat_minor": 2
}
